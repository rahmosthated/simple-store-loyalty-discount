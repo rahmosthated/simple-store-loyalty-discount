{
  "nbformat": 4,
  "nbformat_minor": 0,
  "metadata": {
    "colab": {
      "provenance": [],
      "authorship_tag": "ABX9TyN3C3O+5FNk1hCKahaEo7K5",
      "include_colab_link": true
    },
    "kernelspec": {
      "name": "python3",
      "display_name": "Python 3"
    },
    "language_info": {
      "name": "python"
    }
  },
  "cells": [
    {
      "cell_type": "markdown",
      "metadata": {
        "id": "view-in-github",
        "colab_type": "text"
      },
      "source": [
        "<a href=\"https://colab.research.google.com/github/rahmosthated/simple-store-loyalty-discount/blob/main/Untitled8.ipynb\" target=\"_parent\"><img src=\"https://colab.research.google.com/assets/colab-badge.svg\" alt=\"Open In Colab\"/></a>"
      ]
    },
    {
      "cell_type": "code",
      "execution_count": null,
      "metadata": {
        "id": "I0tfVauwC-te"
      },
      "outputs": [],
      "source": [
        "# Ask the user for membership level and total spending\n",
        "membership = input(\"Enter your membership level (premium or standard): \").strip().lower()\n",
        "spending = float(input(\"Enter your total spending: $\"))\n",
        "\n",
        "# Calculate discount based on membership and spending\n",
        "if membership == \"premium\":\n",
        "    if spending > 100:\n",
        "        discount = 0.20\n",
        "    else:\n",
        "        discount = 0.10\n",
        "elif membership == \"standard\":\n",
        "    if spending > 100:\n",
        "        discount = 0.10\n",
        "    else:\n",
        "        discount = 0.0\n",
        "else:\n",
        "    discount = 0.0\n",
        "    print(\"Invalid membership level. No discount applied.\")\n",
        "\n",
        "# Calculate final price after discount\n",
        "discount_amount = spending * discount\n",
        "final_price = spending - discount_amount\n",
        "\n",
        "# Output the results\n",
        "print(f\"Discount applied: ${discount_amount:.2f}\")\n",
        "print(f\"Final price to pay: ${final_price:.2f}\")\n"
      ]
    }
  ]
}